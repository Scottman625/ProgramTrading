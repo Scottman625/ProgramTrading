{
 "cells": [
  {
   "cell_type": "code",
   "execution_count": null,
   "metadata": {},
   "outputs": [],
   "source": [
    "import sqlite3\n",
    "import time\n",
    "# 讀 sqlite DB\n",
    "conn = sqlite3.connect('D:\\\\stock\\\\py.db')\n",
    "# Select\n",
    "cursor = conn.execute('select * from quote where symbol = 2603')\n",
    "col_names = [description[0] for description in cursor.description]\n",
    "\n",
    "for row in cursor:\n",
    "    i = 0\n",
    "    for w in row:\n",
    "        print(str(col_names[i]) + ':' + str(w))\n",
    "        i += 1\n",
    "\n",
    "    sk_num = row[0]\n",
    "    sk_symbol = row[1]\n",
    "    sk_date = row[2]\n",
    "    sk_time = row[3]\n",
    "    sk_open = row[4]\n",
    "    sk_high = row[5]\n",
    "    sk_low = row[6]\n",
    "    sk_close = row[7]\n",
    "    sk_volume = row[8]\n",
    "\n",
    "    i_sk_volume = int(sk_volume) + 10\n",
    "\n",
    "        # 處理完資料，把sk_volume Update\n",
    "    cursorObj = conn.cursor()\n",
    "    cursorObj.execute('UPDATE quote SET volume = \"' + str(i_sk_volume) +'\" where num = ' + str(sk_num) )\n",
    "    conn.commit()\n",
    "    time.sleep(0.5)\n",
    "conn.close()\n",
    "\n",
    "\n"
   ]
  },
  {
   "cell_type": "code",
   "execution_count": 6,
   "metadata": {},
   "outputs": [],
   "source": [
    "# Delete\n",
    "sk_time = '095106'\n",
    "conn = sqlite3.connect('D:\\\\stock\\\\py.db')\n",
    "conn.execute(\"DELETE FROM quote WHERE time = ?\", (sk_time,))\n",
    "conn.commit()\n",
    "conn.close()"
   ]
  },
  {
   "cell_type": "code",
   "execution_count": null,
   "metadata": {},
   "outputs": [],
   "source": [
    "#Insert into\n",
    "conn = sqlite3.connect('D:\\\\stock\\\\py.db')\n",
    "sk_time = '133000'\n",
    "sk_open = '450'\n",
    "sk_high = '450'\n",
    "sk_low = '450'\n",
    "sk_close = '450'\n",
    "ck_volume = '1500'\n",
    "conn.execute (\"INSERT INTO quote (symbol , date, time, open, high, low, close, volume) values(?,?,?,?,?,?,?,?)\", (sk_symbol, sk_date, sk_time, sk_open,sk_high, sk_lowm sk_close, sk_volume))\n",
    "conn.commit()\n",
    "conn.close()\n"
   ]
  }
 ],
 "metadata": {
  "interpreter": {
   "hash": "b0df7ae3715664bafe75f9d40112a333c2b184d86f17fed539b69d102c1d2673"
  },
  "kernelspec": {
   "display_name": "Python 3.9.7 64-bit",
   "language": "python",
   "name": "python3"
  },
  "language_info": {
   "codemirror_mode": {
    "name": "ipython",
    "version": 3
   },
   "file_extension": ".py",
   "mimetype": "text/x-python",
   "name": "python",
   "nbconvert_exporter": "python",
   "pygments_lexer": "ipython3",
   "version": "3.9.7"
  },
  "orig_nbformat": 4
 },
 "nbformat": 4,
 "nbformat_minor": 2
}
